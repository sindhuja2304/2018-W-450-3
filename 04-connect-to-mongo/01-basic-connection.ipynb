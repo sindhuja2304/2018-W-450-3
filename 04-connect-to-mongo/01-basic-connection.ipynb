{
 "cells": [
  {
   "cell_type": "code",
   "execution_count": 27,
   "metadata": {},
   "outputs": [
    {
     "name": "stdout",
     "output_type": "stream",
     "text": [
      "Requirement already satisfied: pymongo in /opt/conda/lib/python3.6/site-packages\r\n"
     ]
    }
   ],
   "source": [
    "!pip install pymongo"
   ]
  },
  {
   "cell_type": "code",
   "execution_count": 28,
   "metadata": {},
   "outputs": [],
   "source": [
    "from pymongo import MongoClient"
   ]
  },
  {
   "cell_type": "code",
   "execution_count": 29,
   "metadata": {},
   "outputs": [],
   "source": [
    "mongo_client = MongoClient('34.209.155.42', 27016)\n",
    "database_reference = mongo_client.twitter\n",
    "collection_reference = database_reference.tweets"
   ]
  },
  {
   "cell_type": "code",
   "execution_count": 30,
   "metadata": {},
   "outputs": [
    {
     "data": {
      "text/plain": [
       "2147779"
      ]
     },
     "execution_count": 30,
     "metadata": {},
     "output_type": "execute_result"
    }
   ],
   "source": [
    "collection_reference.count()"
   ]
  },
  {
   "cell_type": "code",
   "execution_count": 6,
   "metadata": {},
   "outputs": [],
   "source": [
    "cursor = collection_reference.find()"
   ]
  },
  {
   "cell_type": "code",
   "execution_count": 7,
   "metadata": {},
   "outputs": [
    {
     "data": {
      "text/plain": [
       "{'_id': ObjectId('5a4d5678bfe2f9001587a12e'),\n",
       " 'contributors': None,\n",
       " 'coordinates': None,\n",
       " 'created_at': 'Wed Jan 03 22:16:02 +0000 2018',\n",
       " 'entities': {'hashtags': [], 'symbols': [], 'urls': [], 'user_mentions': []},\n",
       " 'favorite_count': 0,\n",
       " 'favorited': False,\n",
       " 'filter_level': 'low',\n",
       " 'geo': None,\n",
       " 'id': 948679371505655808,\n",
       " 'id_str': '948679371505655808',\n",
       " 'in_reply_to_screen_name': None,\n",
       " 'in_reply_to_status_id': None,\n",
       " 'in_reply_to_status_id_str': None,\n",
       " 'in_reply_to_user_id': None,\n",
       " 'in_reply_to_user_id_str': None,\n",
       " 'is_quote_status': False,\n",
       " 'lang': 'tl',\n",
       " 'place': {'attributes': {},\n",
       "  'bounding_box': {'coordinates': [[[-118.668404, 33.704538],\n",
       "     [-118.668404, 34.337041],\n",
       "     [-118.155409, 34.337041],\n",
       "     [-118.155409, 33.704538]]],\n",
       "   'type': 'Polygon'},\n",
       "  'country': 'United States',\n",
       "  'country_code': 'US',\n",
       "  'full_name': 'Los Angeles, CA',\n",
       "  'id': '3b77caf94bfc81fe',\n",
       "  'name': 'Los Angeles',\n",
       "  'place_type': 'city',\n",
       "  'url': 'https://api.twitter.com/1.1/geo/id/3b77caf94bfc81fe.json'},\n",
       " 'quote_count': 0,\n",
       " 'reply_count': 0,\n",
       " 'retweet_count': 0,\n",
       " 'retweeted': False,\n",
       " 'source': '<a href=\"http://twitter.com/download/iphone\" rel=\"nofollow\">Twitter for iPhone</a>',\n",
       " 'text': 'Putangina ang boring na ng buhay ko dito jusko',\n",
       " 'timestamp_ms': '1515017762434',\n",
       " 'truncated': False,\n",
       " 'user': {'contributors_enabled': False,\n",
       "  'created_at': 'Fri Mar 02 13:22:22 +0000 2012',\n",
       "  'default_profile': False,\n",
       "  'default_profile_image': False,\n",
       "  'description': None,\n",
       "  'favourites_count': 4830,\n",
       "  'follow_request_sent': None,\n",
       "  'followers_count': 773,\n",
       "  'following': None,\n",
       "  'friends_count': 100,\n",
       "  'geo_enabled': True,\n",
       "  'id': 511923569,\n",
       "  'id_str': '511923569',\n",
       "  'is_translator': False,\n",
       "  'lang': 'en',\n",
       "  'listed_count': 1,\n",
       "  'location': 'Los Angeles, CA',\n",
       "  'name': 'Juan Miguel',\n",
       "  'notifications': None,\n",
       "  'profile_background_color': '000000',\n",
       "  'profile_background_image_url': 'http://pbs.twimg.com/profile_background_images/531342961343086592/4a7yCk4x.jpeg',\n",
       "  'profile_background_image_url_https': 'https://pbs.twimg.com/profile_background_images/531342961343086592/4a7yCk4x.jpeg',\n",
       "  'profile_background_tile': False,\n",
       "  'profile_banner_url': 'https://pbs.twimg.com/profile_banners/511923569/1514535792',\n",
       "  'profile_image_url': 'http://pbs.twimg.com/profile_images/946844999412473856/07sICdIq_normal.jpg',\n",
       "  'profile_image_url_https': 'https://pbs.twimg.com/profile_images/946844999412473856/07sICdIq_normal.jpg',\n",
       "  'profile_link_color': '000000',\n",
       "  'profile_sidebar_border_color': 'FFFFFF',\n",
       "  'profile_sidebar_fill_color': 'EFEFEF',\n",
       "  'profile_text_color': '333333',\n",
       "  'profile_use_background_image': True,\n",
       "  'protected': False,\n",
       "  'screen_name': 'euanbedural_',\n",
       "  'statuses_count': 5142,\n",
       "  'time_zone': 'Hong Kong',\n",
       "  'translator_type': 'none',\n",
       "  'url': None,\n",
       "  'utc_offset': 28800,\n",
       "  'verified': False},\n",
       " 'user_processed': True}"
      ]
     },
     "execution_count": 7,
     "metadata": {},
     "output_type": "execute_result"
    }
   ],
   "source": [
    "next(cursor)"
   ]
  },
  {
   "cell_type": "code",
   "execution_count": 8,
   "metadata": {},
   "outputs": [
    {
     "data": {
      "text/plain": [
       "{'_id': ObjectId('5a4d56d9bfe2f9001587a12f'),\n",
       " 'contributors': None,\n",
       " 'coordinates': None,\n",
       " 'created_at': 'Wed Jan 03 22:16:04 +0000 2018',\n",
       " 'display_text_range': [14, 25],\n",
       " 'entities': {'hashtags': [],\n",
       "  'symbols': [],\n",
       "  'urls': [],\n",
       "  'user_mentions': [{'id': 828346564062044160,\n",
       "    'id_str': '828346564062044160',\n",
       "    'indices': [0, 13],\n",
       "    'name': 'alicia 🐻',\n",
       "    'screen_name': 'aliciabearrr'}]},\n",
       " 'favorite_count': 0,\n",
       " 'favorited': False,\n",
       " 'filter_level': 'low',\n",
       " 'geo': None,\n",
       " 'id': 948679379248283648,\n",
       " 'id_str': '948679379248283648',\n",
       " 'in_reply_to_screen_name': 'aliciabearrr',\n",
       " 'in_reply_to_status_id': 948634097961676800,\n",
       " 'in_reply_to_status_id_str': '948634097961676800',\n",
       " 'in_reply_to_user_id': 828346564062044160,\n",
       " 'in_reply_to_user_id_str': '828346564062044160',\n",
       " 'is_quote_status': False,\n",
       " 'lang': 'en',\n",
       " 'place': {'attributes': {},\n",
       "  'bounding_box': {'coordinates': [[[-124.482003, 32.528832],\n",
       "     [-124.482003, 42.009519],\n",
       "     [-114.131212, 42.009519],\n",
       "     [-114.131212, 32.528832]]],\n",
       "   'type': 'Polygon'},\n",
       "  'country': 'United States',\n",
       "  'country_code': 'US',\n",
       "  'full_name': 'California, USA',\n",
       "  'id': 'fbd6d2f5a4e4a15e',\n",
       "  'name': 'California',\n",
       "  'place_type': 'admin',\n",
       "  'url': 'https://api.twitter.com/1.1/geo/id/fbd6d2f5a4e4a15e.json'},\n",
       " 'quote_count': 0,\n",
       " 'reply_count': 0,\n",
       " 'retweet_count': 0,\n",
       " 'retweeted': False,\n",
       " 'source': '<a href=\"http://twitter.com/download/iphone\" rel=\"nofollow\">Twitter for iPhone</a>',\n",
       " 'text': '@aliciabearrr Thank you 😋',\n",
       " 'timestamp_ms': '1515017764280',\n",
       " 'truncated': False,\n",
       " 'user': {'contributors_enabled': False,\n",
       "  'created_at': 'Wed Sep 30 22:49:56 +0000 2015',\n",
       "  'default_profile': True,\n",
       "  'default_profile_image': False,\n",
       "  'description': 'momma to Leah 👩\\u200d👧wife to Fernando 💍',\n",
       "  'favourites_count': 2115,\n",
       "  'follow_request_sent': None,\n",
       "  'followers_count': 308,\n",
       "  'following': None,\n",
       "  'friends_count': 250,\n",
       "  'geo_enabled': True,\n",
       "  'id': 3741582613,\n",
       "  'id_str': '3741582613',\n",
       "  'is_translator': False,\n",
       "  'lang': 'en',\n",
       "  'listed_count': 0,\n",
       "  'location': 'California',\n",
       "  'name': 'Maria Belen Serna',\n",
       "  'notifications': None,\n",
       "  'profile_background_color': 'C0DEED',\n",
       "  'profile_background_image_url': 'http://abs.twimg.com/images/themes/theme1/bg.png',\n",
       "  'profile_background_image_url_https': 'https://abs.twimg.com/images/themes/theme1/bg.png',\n",
       "  'profile_background_tile': False,\n",
       "  'profile_banner_url': 'https://pbs.twimg.com/profile_banners/3741582613/1514716470',\n",
       "  'profile_image_url': 'http://pbs.twimg.com/profile_images/947415653035646977/bH3yLoc2_normal.jpg',\n",
       "  'profile_image_url_https': 'https://pbs.twimg.com/profile_images/947415653035646977/bH3yLoc2_normal.jpg',\n",
       "  'profile_link_color': '1DA1F2',\n",
       "  'profile_sidebar_border_color': 'C0DEED',\n",
       "  'profile_sidebar_fill_color': 'DDEEF6',\n",
       "  'profile_text_color': '333333',\n",
       "  'profile_use_background_image': True,\n",
       "  'protected': False,\n",
       "  'screen_name': '_ohhbelen',\n",
       "  'statuses_count': 8926,\n",
       "  'time_zone': None,\n",
       "  'translator_type': 'none',\n",
       "  'url': None,\n",
       "  'utc_offset': None,\n",
       "  'verified': False},\n",
       " 'user_processed': True}"
      ]
     },
     "execution_count": 8,
     "metadata": {},
     "output_type": "execute_result"
    }
   ],
   "source": [
    "next(cursor)"
   ]
  },
  {
   "cell_type": "code",
   "execution_count": 9,
   "metadata": {},
   "outputs": [
    {
     "data": {
      "text/plain": [
       "'It’s okay to invest in YOUrself. \\nI beat myself up whenever i don’t cross out everything on my… https://t.co/9kQpNWp4F9'"
      ]
     },
     "execution_count": 9,
     "metadata": {},
     "output_type": "execute_result"
    }
   ],
   "source": [
    "next(cursor)['text']"
   ]
  },
  {
   "cell_type": "code",
   "execution_count": 10,
   "metadata": {},
   "outputs": [
    {
     "data": {
      "text/plain": [
       "dict"
      ]
     },
     "execution_count": 10,
     "metadata": {},
     "output_type": "execute_result"
    }
   ],
   "source": [
    "type(next(cursor))"
   ]
  },
  {
   "cell_type": "code",
   "execution_count": 11,
   "metadata": {},
   "outputs": [
    {
     "data": {
      "text/plain": [
       "'Reading “Rest In Power” by Trayvon Martins parents.....can’t stop tearing up imagining what it would be like to go… https://t.co/PX1VJnJv4H'"
      ]
     },
     "execution_count": 11,
     "metadata": {},
     "output_type": "execute_result"
    }
   ],
   "source": [
    "next(cursor)['text']"
   ]
  },
  {
   "cell_type": "code",
   "execution_count": 31,
   "metadata": {},
   "outputs": [],
   "source": [
    "sample_set = collection_reference.aggregate([{ '$sample' : { 'size' : 20}}])"
   ]
  },
  {
   "cell_type": "code",
   "execution_count": 32,
   "metadata": {},
   "outputs": [],
   "source": [
    "tweets_list = list(sample_set)"
   ]
  },
  {
   "cell_type": "code",
   "execution_count": 33,
   "metadata": {},
   "outputs": [],
   "source": [
    "import pandas as pd\n",
    "tweets_dataframe = pd.DataFrame(tweets_list)"
   ]
  },
  {
   "cell_type": "code",
   "execution_count": 34,
   "metadata": {},
   "outputs": [
    {
     "data": {
      "text/plain": [
       "66605"
      ]
     },
     "execution_count": 34,
     "metadata": {},
     "output_type": "execute_result"
    }
   ],
   "source": [
    "import sys\n",
    "sys.getsizeof(tweets_dataframe)"
   ]
  },
  {
   "cell_type": "code",
   "execution_count": 35,
   "metadata": {},
   "outputs": [
    {
     "data": {
      "text/html": [
       "<div>\n",
       "<table border=\"1\" class=\"dataframe\">\n",
       "  <thead>\n",
       "    <tr style=\"text-align: right;\">\n",
       "      <th></th>\n",
       "      <th>_id</th>\n",
       "      <th>contributors</th>\n",
       "      <th>coordinates</th>\n",
       "      <th>created_at</th>\n",
       "      <th>display_text_range</th>\n",
       "      <th>entities</th>\n",
       "      <th>extended_entities</th>\n",
       "      <th>extended_tweet</th>\n",
       "      <th>favorite_count</th>\n",
       "      <th>favorited</th>\n",
       "      <th>...</th>\n",
       "      <th>quoted_status_id_str</th>\n",
       "      <th>reply_count</th>\n",
       "      <th>retweet_count</th>\n",
       "      <th>retweeted</th>\n",
       "      <th>source</th>\n",
       "      <th>text</th>\n",
       "      <th>timestamp_ms</th>\n",
       "      <th>truncated</th>\n",
       "      <th>user</th>\n",
       "      <th>user_processed</th>\n",
       "    </tr>\n",
       "  </thead>\n",
       "  <tbody>\n",
       "    <tr>\n",
       "      <th>0</th>\n",
       "      <td>5a56b9dd36dd5f00015b7028</td>\n",
       "      <td>None</td>\n",
       "      <td>{'type': 'Point', 'coordinates': [-118.263032,...</td>\n",
       "      <td>Thu Jan 11 01:11:57 +0000 2018</td>\n",
       "      <td>NaN</td>\n",
       "      <td>{'hashtags': [{'text': 'job', 'indices': [34, ...</td>\n",
       "      <td>NaN</td>\n",
       "      <td>{'full_text': 'Can you recommend anyone for th...</td>\n",
       "      <td>0</td>\n",
       "      <td>False</td>\n",
       "      <td>...</td>\n",
       "      <td>NaN</td>\n",
       "      <td>0</td>\n",
       "      <td>0</td>\n",
       "      <td>False</td>\n",
       "      <td>&lt;a href=\"http://www.tweetmyjobs.com\" rel=\"nofo...</td>\n",
       "      <td>Can you recommend anyone for this #job? Direct...</td>\n",
       "      <td>1515633117142</td>\n",
       "      <td>True</td>\n",
       "      <td>{'id': 24224190, 'id_str': '24224190', 'name':...</td>\n",
       "      <td>NaN</td>\n",
       "    </tr>\n",
       "    <tr>\n",
       "      <th>1</th>\n",
       "      <td>5a53ebc447b2a100b5082640</td>\n",
       "      <td>None</td>\n",
       "      <td>None</td>\n",
       "      <td>Mon Jan 08 22:08:03 +0000 2018</td>\n",
       "      <td>[0, 140]</td>\n",
       "      <td>{'hashtags': [], 'urls': [{'url': 'https://t.c...</td>\n",
       "      <td>NaN</td>\n",
       "      <td>{'full_text': 'ロサンゼルスは朝から雨です☔️\n",
       "明日も雨模様の予報⚡️雷も\n",
       "こ...</td>\n",
       "      <td>0</td>\n",
       "      <td>False</td>\n",
       "      <td>...</td>\n",
       "      <td>NaN</td>\n",
       "      <td>0</td>\n",
       "      <td>0</td>\n",
       "      <td>False</td>\n",
       "      <td>&lt;a href=\"http://twitter.com/download/iphone\" r...</td>\n",
       "      <td>ロサンゼルスは朝から雨です☔️\\n明日も雨模様の予報⚡️雷も\\nこの時期は雨季であることを実...</td>\n",
       "      <td>1515449283897</td>\n",
       "      <td>True</td>\n",
       "      <td>{'id': 877088993526992896, 'id_str': '87708899...</td>\n",
       "      <td>True</td>\n",
       "    </tr>\n",
       "    <tr>\n",
       "      <th>2</th>\n",
       "      <td>5a5ef3d036dd5f00016060ed</td>\n",
       "      <td>None</td>\n",
       "      <td>None</td>\n",
       "      <td>Wed Jan 17 06:57:20 +0000 2018</td>\n",
       "      <td>NaN</td>\n",
       "      <td>{'hashtags': [], 'urls': [], 'user_mentions': ...</td>\n",
       "      <td>NaN</td>\n",
       "      <td>NaN</td>\n",
       "      <td>0</td>\n",
       "      <td>False</td>\n",
       "      <td>...</td>\n",
       "      <td>NaN</td>\n",
       "      <td>0</td>\n",
       "      <td>0</td>\n",
       "      <td>False</td>\n",
       "      <td>&lt;a href=\"http://twitter.com/download/iphone\" r...</td>\n",
       "      <td>fuck marlboro</td>\n",
       "      <td>1516172240356</td>\n",
       "      <td>False</td>\n",
       "      <td>{'id': 595133308, 'id_str': '595133308', 'name...</td>\n",
       "      <td>NaN</td>\n",
       "    </tr>\n",
       "    <tr>\n",
       "      <th>3</th>\n",
       "      <td>5a5db8e736dd5f00015facf3</td>\n",
       "      <td>None</td>\n",
       "      <td>{'type': 'Point', 'coordinates': [-118.3320521...</td>\n",
       "      <td>Tue Jan 16 08:33:43 +0000 2018</td>\n",
       "      <td>NaN</td>\n",
       "      <td>{'hashtags': [{'text': 'poetry', 'indices': [1...</td>\n",
       "      <td>NaN</td>\n",
       "      <td>NaN</td>\n",
       "      <td>0</td>\n",
       "      <td>False</td>\n",
       "      <td>...</td>\n",
       "      <td>NaN</td>\n",
       "      <td>0</td>\n",
       "      <td>0</td>\n",
       "      <td>False</td>\n",
       "      <td>&lt;a href=\"http://instagram.com\" rel=\"nofollow\"&gt;...</td>\n",
       "      <td>.\\n.\\n.\\n. .\\n.\\n.\\n#poetry #poem #edrecovery ...</td>\n",
       "      <td>1516091623194</td>\n",
       "      <td>False</td>\n",
       "      <td>{'id': 61383575, 'id_str': '61383575', 'name':...</td>\n",
       "      <td>True</td>\n",
       "    </tr>\n",
       "    <tr>\n",
       "      <th>4</th>\n",
       "      <td>5a64055f36dd5f00016361f9</td>\n",
       "      <td>None</td>\n",
       "      <td>None</td>\n",
       "      <td>Sun Jan 21 03:13:34 +0000 2018</td>\n",
       "      <td>[13, 17]</td>\n",
       "      <td>{'hashtags': [], 'urls': [], 'user_mentions': ...</td>\n",
       "      <td>NaN</td>\n",
       "      <td>NaN</td>\n",
       "      <td>0</td>\n",
       "      <td>False</td>\n",
       "      <td>...</td>\n",
       "      <td>NaN</td>\n",
       "      <td>0</td>\n",
       "      <td>0</td>\n",
       "      <td>False</td>\n",
       "      <td>&lt;a href=\"http://twitter.com/download/iphone\" r...</td>\n",
       "      <td>@KingConvict Join</td>\n",
       "      <td>1516504414899</td>\n",
       "      <td>False</td>\n",
       "      <td>{'id': 975462608, 'id_str': '975462608', 'name...</td>\n",
       "      <td>NaN</td>\n",
       "    </tr>\n",
       "  </tbody>\n",
       "</table>\n",
       "<p>5 rows × 36 columns</p>\n",
       "</div>"
      ],
      "text/plain": [
       "                        _id contributors  \\\n",
       "0  5a56b9dd36dd5f00015b7028         None   \n",
       "1  5a53ebc447b2a100b5082640         None   \n",
       "2  5a5ef3d036dd5f00016060ed         None   \n",
       "3  5a5db8e736dd5f00015facf3         None   \n",
       "4  5a64055f36dd5f00016361f9         None   \n",
       "\n",
       "                                         coordinates  \\\n",
       "0  {'type': 'Point', 'coordinates': [-118.263032,...   \n",
       "1                                               None   \n",
       "2                                               None   \n",
       "3  {'type': 'Point', 'coordinates': [-118.3320521...   \n",
       "4                                               None   \n",
       "\n",
       "                       created_at display_text_range  \\\n",
       "0  Thu Jan 11 01:11:57 +0000 2018                NaN   \n",
       "1  Mon Jan 08 22:08:03 +0000 2018           [0, 140]   \n",
       "2  Wed Jan 17 06:57:20 +0000 2018                NaN   \n",
       "3  Tue Jan 16 08:33:43 +0000 2018                NaN   \n",
       "4  Sun Jan 21 03:13:34 +0000 2018           [13, 17]   \n",
       "\n",
       "                                            entities extended_entities  \\\n",
       "0  {'hashtags': [{'text': 'job', 'indices': [34, ...               NaN   \n",
       "1  {'hashtags': [], 'urls': [{'url': 'https://t.c...               NaN   \n",
       "2  {'hashtags': [], 'urls': [], 'user_mentions': ...               NaN   \n",
       "3  {'hashtags': [{'text': 'poetry', 'indices': [1...               NaN   \n",
       "4  {'hashtags': [], 'urls': [], 'user_mentions': ...               NaN   \n",
       "\n",
       "                                      extended_tweet  favorite_count  \\\n",
       "0  {'full_text': 'Can you recommend anyone for th...               0   \n",
       "1  {'full_text': 'ロサンゼルスは朝から雨です☔️\n",
       "明日も雨模様の予報⚡️雷も\n",
       "こ...               0   \n",
       "2                                                NaN               0   \n",
       "3                                                NaN               0   \n",
       "4                                                NaN               0   \n",
       "\n",
       "  favorited      ...       quoted_status_id_str reply_count  retweet_count  \\\n",
       "0     False      ...                        NaN           0              0   \n",
       "1     False      ...                        NaN           0              0   \n",
       "2     False      ...                        NaN           0              0   \n",
       "3     False      ...                        NaN           0              0   \n",
       "4     False      ...                        NaN           0              0   \n",
       "\n",
       "  retweeted                                             source  \\\n",
       "0     False  <a href=\"http://www.tweetmyjobs.com\" rel=\"nofo...   \n",
       "1     False  <a href=\"http://twitter.com/download/iphone\" r...   \n",
       "2     False  <a href=\"http://twitter.com/download/iphone\" r...   \n",
       "3     False  <a href=\"http://instagram.com\" rel=\"nofollow\">...   \n",
       "4     False  <a href=\"http://twitter.com/download/iphone\" r...   \n",
       "\n",
       "                                                text   timestamp_ms  \\\n",
       "0  Can you recommend anyone for this #job? Direct...  1515633117142   \n",
       "1  ロサンゼルスは朝から雨です☔️\\n明日も雨模様の予報⚡️雷も\\nこの時期は雨季であることを実...  1515449283897   \n",
       "2                                      fuck marlboro  1516172240356   \n",
       "3  .\\n.\\n.\\n. .\\n.\\n.\\n#poetry #poem #edrecovery ...  1516091623194   \n",
       "4                                  @KingConvict Join  1516504414899   \n",
       "\n",
       "   truncated                                               user user_processed  \n",
       "0       True  {'id': 24224190, 'id_str': '24224190', 'name':...            NaN  \n",
       "1       True  {'id': 877088993526992896, 'id_str': '87708899...           True  \n",
       "2      False  {'id': 595133308, 'id_str': '595133308', 'name...            NaN  \n",
       "3      False  {'id': 61383575, 'id_str': '61383575', 'name':...           True  \n",
       "4      False  {'id': 975462608, 'id_str': '975462608', 'name...            NaN  \n",
       "\n",
       "[5 rows x 36 columns]"
      ]
     },
     "execution_count": 35,
     "metadata": {},
     "output_type": "execute_result"
    }
   ],
   "source": [
    "tweets_dataframe.head()"
   ]
  },
  {
   "cell_type": "code",
   "execution_count": 36,
   "metadata": {},
   "outputs": [
    {
     "data": {
      "text/html": [
       "<div>\n",
       "<table border=\"1\" class=\"dataframe\">\n",
       "  <thead>\n",
       "    <tr style=\"text-align: right;\">\n",
       "      <th></th>\n",
       "      <th>favorite_count</th>\n",
       "      <th>id</th>\n",
       "      <th>in_reply_to_status_id</th>\n",
       "      <th>in_reply_to_user_id</th>\n",
       "      <th>quote_count</th>\n",
       "      <th>quoted_status_id</th>\n",
       "      <th>reply_count</th>\n",
       "      <th>retweet_count</th>\n",
       "    </tr>\n",
       "  </thead>\n",
       "  <tbody>\n",
       "    <tr>\n",
       "      <th>count</th>\n",
       "      <td>20.0</td>\n",
       "      <td>2.000000e+01</td>\n",
       "      <td>5.000000e+00</td>\n",
       "      <td>6.000000e+00</td>\n",
       "      <td>20.0</td>\n",
       "      <td>2.000000e+00</td>\n",
       "      <td>20.0</td>\n",
       "      <td>20.0</td>\n",
       "    </tr>\n",
       "    <tr>\n",
       "      <th>mean</th>\n",
       "      <td>0.0</td>\n",
       "      <td>9.554991e+17</td>\n",
       "      <td>9.559651e+17</td>\n",
       "      <td>1.128319e+09</td>\n",
       "      <td>0.0</td>\n",
       "      <td>9.602824e+17</td>\n",
       "      <td>0.0</td>\n",
       "      <td>0.0</td>\n",
       "    </tr>\n",
       "    <tr>\n",
       "      <th>std</th>\n",
       "      <td>0.0</td>\n",
       "      <td>4.030016e+15</td>\n",
       "      <td>4.779045e+15</td>\n",
       "      <td>1.177556e+09</td>\n",
       "      <td>0.0</td>\n",
       "      <td>1.189172e+15</td>\n",
       "      <td>0.0</td>\n",
       "      <td>0.0</td>\n",
       "    </tr>\n",
       "    <tr>\n",
       "      <th>min</th>\n",
       "      <td>0.0</td>\n",
       "      <td>9.494212e+17</td>\n",
       "      <td>9.490633e+17</td>\n",
       "      <td>2.717993e+07</td>\n",
       "      <td>0.0</td>\n",
       "      <td>9.594416e+17</td>\n",
       "      <td>0.0</td>\n",
       "      <td>0.0</td>\n",
       "    </tr>\n",
       "    <tr>\n",
       "      <th>25%</th>\n",
       "      <td>0.0</td>\n",
       "      <td>9.528568e+17</td>\n",
       "      <td>9.548526e+17</td>\n",
       "      <td>1.615431e+08</td>\n",
       "      <td>0.0</td>\n",
       "      <td>9.598620e+17</td>\n",
       "      <td>0.0</td>\n",
       "      <td>0.0</td>\n",
       "    </tr>\n",
       "    <tr>\n",
       "      <th>50%</th>\n",
       "      <td>0.0</td>\n",
       "      <td>9.549040e+17</td>\n",
       "      <td>9.549146e+17</td>\n",
       "      <td>9.918032e+08</td>\n",
       "      <td>0.0</td>\n",
       "      <td>9.602824e+17</td>\n",
       "      <td>0.0</td>\n",
       "      <td>0.0</td>\n",
       "    </tr>\n",
       "    <tr>\n",
       "      <th>75%</th>\n",
       "      <td>0.0</td>\n",
       "      <td>9.596405e+17</td>\n",
       "      <td>9.601118e+17</td>\n",
       "      <td>1.589711e+09</td>\n",
       "      <td>0.0</td>\n",
       "      <td>9.607029e+17</td>\n",
       "      <td>0.0</td>\n",
       "      <td>0.0</td>\n",
       "    </tr>\n",
       "    <tr>\n",
       "      <th>max</th>\n",
       "      <td>0.0</td>\n",
       "      <td>9.611246e+17</td>\n",
       "      <td>9.608831e+17</td>\n",
       "      <td>3.085324e+09</td>\n",
       "      <td>0.0</td>\n",
       "      <td>9.611233e+17</td>\n",
       "      <td>0.0</td>\n",
       "      <td>0.0</td>\n",
       "    </tr>\n",
       "  </tbody>\n",
       "</table>\n",
       "</div>"
      ],
      "text/plain": [
       "       favorite_count            id  in_reply_to_status_id  \\\n",
       "count            20.0  2.000000e+01           5.000000e+00   \n",
       "mean              0.0  9.554991e+17           9.559651e+17   \n",
       "std               0.0  4.030016e+15           4.779045e+15   \n",
       "min               0.0  9.494212e+17           9.490633e+17   \n",
       "25%               0.0  9.528568e+17           9.548526e+17   \n",
       "50%               0.0  9.549040e+17           9.549146e+17   \n",
       "75%               0.0  9.596405e+17           9.601118e+17   \n",
       "max               0.0  9.611246e+17           9.608831e+17   \n",
       "\n",
       "       in_reply_to_user_id  quote_count  quoted_status_id  reply_count  \\\n",
       "count         6.000000e+00         20.0      2.000000e+00         20.0   \n",
       "mean          1.128319e+09          0.0      9.602824e+17          0.0   \n",
       "std           1.177556e+09          0.0      1.189172e+15          0.0   \n",
       "min           2.717993e+07          0.0      9.594416e+17          0.0   \n",
       "25%           1.615431e+08          0.0      9.598620e+17          0.0   \n",
       "50%           9.918032e+08          0.0      9.602824e+17          0.0   \n",
       "75%           1.589711e+09          0.0      9.607029e+17          0.0   \n",
       "max           3.085324e+09          0.0      9.611233e+17          0.0   \n",
       "\n",
       "       retweet_count  \n",
       "count           20.0  \n",
       "mean             0.0  \n",
       "std              0.0  \n",
       "min              0.0  \n",
       "25%              0.0  \n",
       "50%              0.0  \n",
       "75%              0.0  \n",
       "max              0.0  "
      ]
     },
     "execution_count": 36,
     "metadata": {},
     "output_type": "execute_result"
    }
   ],
   "source": [
    "tweets_dataframe.describe()"
   ]
  },
  {
   "cell_type": "code",
   "execution_count": 37,
   "metadata": {},
   "outputs": [
    {
     "data": {
      "text/plain": [
       "['_id',\n",
       " 'contributors',\n",
       " 'coordinates',\n",
       " 'created_at',\n",
       " 'display_text_range',\n",
       " 'entities',\n",
       " 'extended_entities',\n",
       " 'extended_tweet',\n",
       " 'favorite_count',\n",
       " 'favorited',\n",
       " 'filter_level',\n",
       " 'geo',\n",
       " 'id',\n",
       " 'id_str',\n",
       " 'in_reply_to_screen_name',\n",
       " 'in_reply_to_status_id',\n",
       " 'in_reply_to_status_id_str',\n",
       " 'in_reply_to_user_id',\n",
       " 'in_reply_to_user_id_str',\n",
       " 'is_quote_status',\n",
       " 'lang',\n",
       " 'place',\n",
       " 'possibly_sensitive',\n",
       " 'quote_count',\n",
       " 'quoted_status',\n",
       " 'quoted_status_id',\n",
       " 'quoted_status_id_str',\n",
       " 'reply_count',\n",
       " 'retweet_count',\n",
       " 'retweeted',\n",
       " 'source',\n",
       " 'text',\n",
       " 'timestamp_ms',\n",
       " 'truncated',\n",
       " 'user',\n",
       " 'user_processed']"
      ]
     },
     "execution_count": 37,
     "metadata": {},
     "output_type": "execute_result"
    }
   ],
   "source": [
    "tweets_dataframe.columns.tolist()"
   ]
  },
  {
   "cell_type": "code",
   "execution_count": 42,
   "metadata": {},
   "outputs": [
    {
     "data": {
      "text/plain": [
       "_id                           object\n",
       "contributors                  object\n",
       "coordinates                   object\n",
       "created_at                    object\n",
       "display_text_range            object\n",
       "entities                      object\n",
       "extended_entities             object\n",
       "extended_tweet                object\n",
       "favorite_count                 int64\n",
       "favorited                       bool\n",
       "filter_level                  object\n",
       "geo                           object\n",
       "id                             int64\n",
       "id_str                        object\n",
       "in_reply_to_screen_name       object\n",
       "in_reply_to_status_id        float64\n",
       "in_reply_to_status_id_str     object\n",
       "in_reply_to_user_id          float64\n",
       "in_reply_to_user_id_str       object\n",
       "is_quote_status                 bool\n",
       "lang                          object\n",
       "place                         object\n",
       "possibly_sensitive            object\n",
       "quote_count                    int64\n",
       "quoted_status                 object\n",
       "quoted_status_id             float64\n",
       "quoted_status_id_str          object\n",
       "reply_count                    int64\n",
       "retweet_count                  int64\n",
       "retweeted                       bool\n",
       "source                        object\n",
       "text                          object\n",
       "timestamp_ms                  object\n",
       "truncated                       bool\n",
       "user                          object\n",
       "user_processed                object\n",
       "dtype: object"
      ]
     },
     "execution_count": 42,
     "metadata": {},
     "output_type": "execute_result"
    }
   ],
   "source": [
    "tweets_dataframe.dtypes"
   ]
  },
  {
   "cell_type": "code",
   "execution_count": 44,
   "metadata": {},
   "outputs": [
    {
     "ename": "NameError",
     "evalue": "name 'user' is not defined",
     "output_type": "error",
     "traceback": [
      "\u001b[0;31m---------------------------------------------------------------------------\u001b[0m",
      "\u001b[0;31mNameError\u001b[0m                                 Traceback (most recent call last)",
      "\u001b[0;32m<ipython-input-44-17ebd1ad64a9>\u001b[0m in \u001b[0;36m<module>\u001b[0;34m()\u001b[0m\n\u001b[0;32m----> 1\u001b[0;31m \u001b[0mtype\u001b[0m\u001b[0;34m(\u001b[0m\u001b[0muser\u001b[0m\u001b[0;34m)\u001b[0m\u001b[0;34m\u001b[0m\u001b[0m\n\u001b[0m",
      "\u001b[0;31mNameError\u001b[0m: name 'user' is not defined"
     ]
    }
   ],
   "source": [
    "type(user)"
   ]
  },
  {
   "cell_type": "code",
   "execution_count": 45,
   "metadata": {},
   "outputs": [],
   "source": [
    "from pandas.io.json import json_normalize\n",
    "tweets_normalized = json_normalize(tweets_list)"
   ]
  },
  {
   "cell_type": "code",
   "execution_count": 46,
   "metadata": {},
   "outputs": [
    {
     "ename": "AttributeError",
     "evalue": "'DataFrame' object has no attribute 'column'",
     "output_type": "error",
     "traceback": [
      "\u001b[0;31m---------------------------------------------------------------------------\u001b[0m",
      "\u001b[0;31mAttributeError\u001b[0m                            Traceback (most recent call last)",
      "\u001b[0;32m<ipython-input-46-16b8f200cb8d>\u001b[0m in \u001b[0;36m<module>\u001b[0;34m()\u001b[0m\n\u001b[1;32m      1\u001b[0m \u001b[0mtweets_normalized\u001b[0m\u001b[0;34m.\u001b[0m\u001b[0mhead\u001b[0m\u001b[0;34m(\u001b[0m\u001b[0;34m)\u001b[0m\u001b[0;34m\u001b[0m\u001b[0m\n\u001b[1;32m      2\u001b[0m \u001b[0mtweets_normalized\u001b[0m\u001b[0;34m.\u001b[0m\u001b[0mdescribe\u001b[0m\u001b[0;34m(\u001b[0m\u001b[0;34m)\u001b[0m\u001b[0;34m\u001b[0m\u001b[0m\n\u001b[0;32m----> 3\u001b[0;31m \u001b[0mtweets_normalized\u001b[0m\u001b[0;34m.\u001b[0m\u001b[0mcolumn\u001b[0m\u001b[0;34m.\u001b[0m\u001b[0mtolist\u001b[0m\u001b[0;34m(\u001b[0m\u001b[0;34m)\u001b[0m\u001b[0;34m\u001b[0m\u001b[0m\n\u001b[0m",
      "\u001b[0;32m/opt/conda/lib/python3.6/site-packages/pandas/core/generic.py\u001b[0m in \u001b[0;36m__getattr__\u001b[0;34m(self, name)\u001b[0m\n\u001b[1;32m   2742\u001b[0m             \u001b[0;32mif\u001b[0m \u001b[0mname\u001b[0m \u001b[0;32min\u001b[0m \u001b[0mself\u001b[0m\u001b[0;34m.\u001b[0m\u001b[0m_info_axis\u001b[0m\u001b[0;34m:\u001b[0m\u001b[0;34m\u001b[0m\u001b[0m\n\u001b[1;32m   2743\u001b[0m                 \u001b[0;32mreturn\u001b[0m \u001b[0mself\u001b[0m\u001b[0;34m[\u001b[0m\u001b[0mname\u001b[0m\u001b[0;34m]\u001b[0m\u001b[0;34m\u001b[0m\u001b[0m\n\u001b[0;32m-> 2744\u001b[0;31m             \u001b[0;32mreturn\u001b[0m \u001b[0mobject\u001b[0m\u001b[0;34m.\u001b[0m\u001b[0m__getattribute__\u001b[0m\u001b[0;34m(\u001b[0m\u001b[0mself\u001b[0m\u001b[0;34m,\u001b[0m \u001b[0mname\u001b[0m\u001b[0;34m)\u001b[0m\u001b[0;34m\u001b[0m\u001b[0m\n\u001b[0m\u001b[1;32m   2745\u001b[0m \u001b[0;34m\u001b[0m\u001b[0m\n\u001b[1;32m   2746\u001b[0m     \u001b[0;32mdef\u001b[0m \u001b[0m__setattr__\u001b[0m\u001b[0;34m(\u001b[0m\u001b[0mself\u001b[0m\u001b[0;34m,\u001b[0m \u001b[0mname\u001b[0m\u001b[0;34m,\u001b[0m \u001b[0mvalue\u001b[0m\u001b[0;34m)\u001b[0m\u001b[0;34m:\u001b[0m\u001b[0;34m\u001b[0m\u001b[0m\n",
      "\u001b[0;31mAttributeError\u001b[0m: 'DataFrame' object has no attribute 'column'"
     ]
    }
   ],
   "source": [
    "tweets_normalized.head()\n",
    "tweets_normalized.describe()\n",
    "tweets_normalized.column.tolist()"
   ]
  },
  {
   "cell_type": "code",
   "execution_count": null,
   "metadata": {},
   "outputs": [],
   "source": []
  }
 ],
 "metadata": {
  "kernelspec": {
   "display_name": "Python 3",
   "language": "python",
   "name": "python3"
  },
  "language_info": {
   "codemirror_mode": {
    "name": "ipython",
    "version": 3
   },
   "file_extension": ".py",
   "mimetype": "text/x-python",
   "name": "python",
   "nbconvert_exporter": "python",
   "pygments_lexer": "ipython3",
   "version": "3.6.3"
  }
 },
 "nbformat": 4,
 "nbformat_minor": 2
}
